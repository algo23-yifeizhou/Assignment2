{
 "cells": [
  {
   "cell_type": "code",
   "execution_count": 1,
   "metadata": {},
   "outputs": [],
   "source": [
    "from jqdata import *\n",
    "import pandas as pd \n",
    "import numpy as np\n",
    "import statsmodels.api as sm \n"
   ]
  },
  {
   "cell_type": "code",
   "execution_count": 2,
   "metadata": {},
   "outputs": [
    {
     "name": "stdout",
     "output_type": "stream",
     "text": [
      "CPU times: user 6 µs, sys: 1 µs, total: 7 µs\n",
      "Wall time: 13.1 µs\n"
     ]
    }
   ],
   "source": [
    "%%time\n",
    "#########获取数据############\n",
    "##########################################期货标的################################################\n",
    "#######起始日期\n",
    "start_date = '2015-02-09'\n",
    "######终止日期\n",
    "end_date = '2023-02-24'\n",
    "######标的\n",
    "# 上证50ETF期权， 510050.XSHG,上市时间为2015-02-09，从2015-05-01开始取数据\n",
    "# 沪深300ETF期权（上海交易所），510300.XSHG，上市时间为2019-12-23\n",
    "# 沪深300ETF期权（深圳交易所），159919，上市时间为2019-12-23\n",
    "# 沪深300股指期货期权，IO，看涨期权：IO合约月份-C-行权价格，如IO2302-C-3350，看跌期权：IO合约月份-P-行权价格\n",
    "# 中证1000股指期货期权，MO"
   ]
  },
  {
   "cell_type": "code",
   "execution_count": 3,
   "metadata": {
    "code_folding": []
   },
   "outputs": [],
   "source": [
    "trade_days=get_trade_days(start_date, end_date)"
   ]
  },
  {
   "cell_type": "code",
   "execution_count": 4,
   "metadata": {},
   "outputs": [
    {
     "data": {
      "text/plain": [
       "array([2015-02-09, 2015-02-10, 2015-02-11, ..., 2023-02-22, 2023-02-23,\n",
       "       2023-02-24], dtype=object)"
      ]
     },
     "execution_count": 4,
     "metadata": {},
     "output_type": "execute_result"
    }
   ],
   "source": [
    "trade_days"
   ]
  },
  {
   "cell_type": "code",
   "execution_count": 5,
   "metadata": {
    "scrolled": false
   },
   "outputs": [
    {
     "name": "stdout",
     "output_type": "stream",
     "text": [
      "CPU times: user 4 µs, sys: 0 ns, total: 4 µs\n",
      "Wall time: 8.82 µs\n"
     ]
    }
   ],
   "source": [
    "%%time\n",
    "# t = -1\n",
    "# date = trade_days[t]\n",
    "# price=get_price('510050.XSHG',count=1,end_date=date,fq='none',fields=['open'])['open'].values[0]\n",
    "def get_daily_contracts(date):\n",
    "#     q=query(jy.Opt_DailyPreOpen).filter(jy.Opt_DailyPreOpen.TradingDate==date,jy.Opt_DailyPreOpen.ULAName=='50ETF')\n",
    "    q = query(opt.OPT_DAILY_PREOPEN).filter(opt.OPT_DAILY_PREOPEN.underlying_symbol=='510050.XSHG',\n",
    "                                            opt.OPT_DAILY_PREOPEN.date==date)\n",
    "#     df=jy.run_query(q)\n",
    "    df = opt.run_query(q)\n",
    "    # print(df.head().T)\n",
    "#     df=df.loc[:,['ContractCode','TradingCode','StrikePrice','ExerciseDate']]\n",
    "    df = df[['code','trading_code','exercise_price','exercise_date']]\n",
    "#     df=df[df['ExerciseDate']==df['ExerciseDate'].min()].reset_index()#这个功能是干什么的呢？\n",
    "\n",
    "    if df.shape[0]>0:\n",
    "        for i, row in df.iterrows():\n",
    "#             scode = row['TradingCode']\n",
    "            scode = row['trading_code']\n",
    "    #       合约交易代码：合约交易代码包含合约标的、合约类型、到期月份、行权价格等要素。\n",
    "    #       上证50ETF期权合约的交易代码共有17位，具体组成为：第1至第6位为合约标的证券代码；\n",
    "    #       第7位为C或P，分别表示认购期权或者认沽期权；\n",
    "    #       第8、9位表示到期年份的后两位数字；第10、11位表示到期月份；\n",
    "    #       第12位期初设为“M”，并根据合约调整次数按照“A”至“Z”依序变更，如变更为“A”表示期权合约发生首次调整，\n",
    "    #       变更为“B”表示期权合约发生第二次调整，依此类推；第13至17位表示行权价格，单位为0.001元\n",
    "            df.loc[i,'Modify'] = scode[11]\n",
    "            #下面是给call 和 put 打标签，方便后面筛选\n",
    "            if scode[6]=='C':\n",
    "                df.loc[i,'CP']='c'\n",
    "            elif scode[6]=='P':\n",
    "                df.loc[i,'CP']='p'\n",
    "                        \n",
    "#         contract = df[['ContractCode','StrikePrice','ExerciseDate','CP','Modify']]\n",
    "        contract = df[['code','exercise_price','exercise_date','CP','Modify']]\n",
    "        return contract.values\n",
    "    else:\n",
    "        print(date,'这一天取不到期权合约！！')\n",
    "        return np.NaN"
   ]
  },
  {
   "cell_type": "code",
   "execution_count": 7,
   "metadata": {},
   "outputs": [
    {
     "name": "stdout",
     "output_type": "stream",
     "text": [
      "100%[****************************************************************************************************->]697.94s"
     ]
    }
   ],
   "source": [
    "start = time.perf_counter()\n",
    "day_num = len(trade_days)\n",
    "contract_list = []\n",
    "for t, date in enumerate(trade_days):\n",
    "    contract_list.append((date, get_daily_contracts(date)))\n",
    "    \n",
    "    ###############进度条#################\n",
    "    c = (t / day_num) * 100\n",
    "    k = round(c)\n",
    "    a = \"*\" * k\n",
    "    b = \".\" * (100 - k)\n",
    "    dur = time.perf_counter() - start\n",
    "    print(\"\\r{:^3.0f}%[{}->{}]{:.2f}s\".format(c,a,b,dur),end = \"\")"
   ]
  },
  {
   "cell_type": "code",
   "execution_count": 8,
   "metadata": {},
   "outputs": [],
   "source": [
    "import pickle\n",
    "contract_name = '50ETF'\n",
    "file_name = 'option_contracts_{}_({}to{}).pkl'.format(contract_name,\n",
    "                                                      start_date,\n",
    "                                                      end_date)\n",
    "folder_name = 'contracts_list'\n",
    "path = folder_name + '/' + file_name\n",
    "with open (path,'wb') as f:\n",
    "    pickle.dump(contract_list,f)"
   ]
  }
 ],
 "metadata": {
  "kernelspec": {
   "display_name": "Python 3",
   "language": "python",
   "name": "python3"
  },
  "language_info": {
   "codemirror_mode": {
    "name": "ipython",
    "version": 3
   },
   "file_extension": ".py",
   "mimetype": "text/x-python",
   "name": "python",
   "nbconvert_exporter": "python",
   "pygments_lexer": "ipython3",
   "version": "3.6.7"
  },
  "toc": {
   "base_numbering": 1,
   "nav_menu": {},
   "number_sections": false,
   "sideBar": true,
   "skip_h1_title": false,
   "title_cell": "MarkDown菜单",
   "title_sidebar": "Contents",
   "toc_cell": false,
   "toc_position": {},
   "toc_section_display": true,
   "toc_window_display": false
  }
 },
 "nbformat": 4,
 "nbformat_minor": 2
}
